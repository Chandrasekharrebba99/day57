{
 "cells": [
  {
   "cell_type": "code",
   "execution_count": 2,
   "id": "19a31614",
   "metadata": {},
   "outputs": [
    {
     "data": {
      "text/plain": [
       "1155000"
      ]
     },
     "execution_count": 2,
     "metadata": {},
     "output_type": "execute_result"
    }
   ],
   "source": [
    "15000*77"
   ]
  },
  {
   "cell_type": "code",
   "execution_count": 3,
   "id": "f0751f1d",
   "metadata": {},
   "outputs": [
    {
     "data": {
      "text/plain": [
       "(1, 15, 5000)"
      ]
     },
     "execution_count": 3,
     "metadata": {},
     "output_type": "execute_result"
    }
   ],
   "source": [
    "1,15,5000"
   ]
  },
  {
   "cell_type": "code",
   "execution_count": 4,
   "id": "43a771b3",
   "metadata": {},
   "outputs": [
    {
     "data": {
      "text/plain": [
       "2.5"
      ]
     },
     "execution_count": 4,
     "metadata": {},
     "output_type": "execute_result"
    }
   ],
   "source": [
    "def findMedianSortedArrays(nums1,nums2):\n",
    "        nums = nums1+nums2\n",
    "        nums= sorted(nums)\n",
    "        \n",
    "        n = len(nums)\n",
    "        \n",
    "        if n%2 == 0:\n",
    "            k = int(len(nums)/2)\n",
    "            med = (nums[k-1]+nums[k])/2\n",
    "            return med\n",
    "        else:\n",
    "            n = int(len(nums)/2)\n",
    "            med = nums[n]\n",
    "            return med\n",
    "        \n",
    "n1= [1,3]\n",
    "n2 = [2,4]\n",
    "findMedianSortedArrays(n1,n2)"
   ]
  },
  {
   "cell_type": "code",
   "execution_count": 5,
   "id": "19b73773",
   "metadata": {},
   "outputs": [
    {
     "data": {
      "text/plain": [
       "[0, 1]"
      ]
     },
     "execution_count": 5,
     "metadata": {},
     "output_type": "execute_result"
    }
   ],
   "source": [
    "def twoSum(nums,target):\n",
    "    for i in range(len(nums)):\n",
    "        num1 = nums[i]\n",
    "        num2 = target - nums[i]\n",
    "        arr = nums[i+1:]\n",
    "    \n",
    "        if num2 in arr:\n",
    "            for j in range(len(arr)):\n",
    "                if num2 == arr[j]:\n",
    "                    return [i,j+i+1]\n",
    "                    break\n",
    "    \n",
    "    \n",
    "    \n",
    "    \n",
    "nu=[2,7,11,15]\n",
    "t= 9        \n",
    "twoSum(nu,t)"
   ]
  },
  {
   "cell_type": "code",
   "execution_count": 6,
   "id": "18fd278d",
   "metadata": {},
   "outputs": [
    {
     "name": "stdout",
     "output_type": "stream",
     "text": [
      "['sdf', 's']\n"
     ]
    }
   ],
   "source": [
    "s = \"    . -34sdsd sdf s\"\n",
    "\n",
    "s = s.split()\n",
    "d = []\n",
    "\n",
    "for i in s:\n",
    "    if i.isalpha():\n",
    "        d.append(i)\n",
    "\n",
    "print(d)\n",
    "for i in d:\n",
    "    if i.isdigit():\n",
    "        print(i)"
   ]
  },
  {
   "cell_type": "code",
   "execution_count": null,
   "id": "22692784",
   "metadata": {},
   "outputs": [],
   "source": []
  }
 ],
 "metadata": {
  "kernelspec": {
   "display_name": "Python 3 (ipykernel)",
   "language": "python",
   "name": "python3"
  },
  "language_info": {
   "codemirror_mode": {
    "name": "ipython",
    "version": 3
   },
   "file_extension": ".py",
   "mimetype": "text/x-python",
   "name": "python",
   "nbconvert_exporter": "python",
   "pygments_lexer": "ipython3",
   "version": "3.9.12"
  }
 },
 "nbformat": 4,
 "nbformat_minor": 5
}
